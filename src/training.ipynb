{
 "cells": [
  {
   "cell_type": "markdown",
   "metadata": {},
   "source": [
    "## Load dataset"
   ]
  },
  {
   "cell_type": "code",
   "execution_count": 11,
   "metadata": {},
   "outputs": [],
   "source": [
    "import pandas as pd\n",
    "from sklearn.model_selection import train_test_split\n",
    "\n",
    "# dataset preparation in data.py file\n",
    "dataset = '../datasets/fr-en.merged5000.tsv'\n",
    "df = pd.read_csv(dataset, sep='\\t', encoding='utf-8', header=None, names=['french', 'english', 'label'], on_bad_lines='skip', quoting=3)\n",
    "\n",
    "X = df.drop(columns=[\"label\"])\n",
    "y = df[\"label\"]\n",
    "\n",
    "X_train, X_test, y_train, y_test = train_test_split(X, y, test_size=0.20, random_state=42)"
   ]
  },
  {
   "cell_type": "markdown",
   "metadata": {},
   "source": [
    "## XGBoost gradient boosted trees\n",
    "\n",
    "### Create Bag Of Words "
   ]
  },
  {
   "cell_type": "code",
   "execution_count": 12,
   "metadata": {},
   "outputs": [
    {
     "name": "stderr",
     "output_type": "stream",
     "text": [
      "[nltk_data] Downloading package stopwords to\n",
      "[nltk_data]     /Users/michalsvec/nltk_data...\n",
      "[nltk_data]   Package stopwords is already up-to-date!\n",
      "/Users/michalsvec/Desktop/formality-evaluation/env/lib/python3.9/site-packages/xgboost/core.py:158: UserWarning: [19:45:24] WARNING: /Users/runner/work/xgboost/xgboost/src/learner.cc:740: \n",
      "Parameters: { \"use_label_encoder\" } are not used.\n",
      "\n",
      "  warnings.warn(smsg, UserWarning)\n"
     ]
    },
    {
     "name": "stdout",
     "output_type": "stream",
     "text": [
      "Accuracy: 0.8190\n"
     ]
    }
   ],
   "source": [
    "from sklearn.model_selection import train_test_split\n",
    "import xgboost as xgb\n",
    "from sklearn.metrics import accuracy_score\n",
    "import data\n",
    "\n",
    "X_train_bow, X_test_bow = data.bow_df(X_train, X_test)\n",
    "\n",
    "\n",
    "model = xgb.XGBClassifier(use_label_encoder=False, eval_metric='mlogloss')\n",
    "\n",
    "\n",
    "model.fit(X_train_bow.values, y_train.values)\n",
    "\n",
    "\n",
    "y_pred = model.predict(X_test_bow.values)\n",
    "\n",
    "accuracy = accuracy_score(y_test.values, y_pred)\n",
    "print(f\"Accuracy: {accuracy:.4f}\")"
   ]
  },
  {
   "cell_type": "markdown",
   "metadata": {},
   "source": [
    "## Gemini LLM\n",
    "### gemini-2.5-pro-exp-03-25"
   ]
  },
  {
   "cell_type": "code",
   "execution_count": null,
   "metadata": {},
   "outputs": [],
   "source": [
    "from models.gemini import Gemini\n",
    "import os\n",
    "\n",
    "gemini = Gemini(model=\"gemini-2.5-pro-exp-03-25\", api_key=os.environ[\"GEMINI_API_KEY\"])\n",
    "def classification_prompt(text:str):\n",
    "    return f\"Classify the provided into two categories, formal or informal. Output 0 if formal, 1 if informal. \\n\\n\\n {text}\""
   ]
  },
  {
   "cell_type": "code",
   "execution_count": null,
   "metadata": {},
   "outputs": [
    {
     "name": "stdout",
     "output_type": "stream",
     "text": [
      "1\n"
     ]
    }
   ],
   "source": [
    "for text in X_test['english']:\n",
    "    print(gemini.run(classification_prompt(text)))\n",
    "    break"
   ]
  },
  {
   "cell_type": "code",
   "execution_count": null,
   "metadata": {},
   "outputs": [],
   "source": []
  }
 ],
 "metadata": {
  "kernelspec": {
   "display_name": "env",
   "language": "python",
   "name": "python3"
  },
  "language_info": {
   "codemirror_mode": {
    "name": "ipython",
    "version": 3
   },
   "file_extension": ".py",
   "mimetype": "text/x-python",
   "name": "python",
   "nbconvert_exporter": "python",
   "pygments_lexer": "ipython3",
   "version": "3.9.6"
  }
 },
 "nbformat": 4,
 "nbformat_minor": 2
}
