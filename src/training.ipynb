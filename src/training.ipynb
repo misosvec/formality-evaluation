{
 "cells": [
  {
   "cell_type": "markdown",
   "metadata": {},
   "source": [
    "## Load dataset"
   ]
  },
  {
   "cell_type": "code",
   "execution_count": 11,
   "metadata": {},
   "outputs": [
    {
     "name": "stdout",
     "output_type": "stream",
     "text": [
      "<class 'pandas.core.frame.DataFrame'>\n",
      "Index: 5000 entries, Silný symbol, ktorý uctieva ľudí, ktorí obetovali na bojisku a domovom fronte, veľká vonkajšia pomník obsahuje citáty a umelecké diela, ktoré sa týkajú nesmiernosti a dôležitosti spojeneckého víťazstva v najväčšom konflikte v ľudskej histórii. to V takom prípade sa obráťte na oddelenie starostlivosti o zákazníkov.\n",
      "Data columns (total 2 columns):\n",
      " #   Column   Non-Null Count  Dtype \n",
      "---  ------   --------------  ----- \n",
      " 0   slovak   5000 non-null   object\n",
      " 1   english  5000 non-null   object\n",
      "dtypes: object(2)\n",
      "memory usage: 117.2+ KB\n"
     ]
    }
   ],
   "source": [
    "import pandas as pd\n",
    "\n",
    "# dataset preparation in data.py file\n",
    "dataset = '../datasets/sk-en.merged5000.tsv'\n",
    "df = pd.read_csv(dataset, sep='\\t', encoding='utf-8', header=None, names=['slovak', 'english'], on_bad_lines='skip', quoting=3)\n",
    "df.info()"
   ]
  },
  {
   "cell_type": "code",
   "execution_count": null,
   "metadata": {},
   "outputs": [],
   "source": []
  }
 ],
 "metadata": {
  "kernelspec": {
   "display_name": "env",
   "language": "python",
   "name": "python3"
  },
  "language_info": {
   "codemirror_mode": {
    "name": "ipython",
    "version": 3
   },
   "file_extension": ".py",
   "mimetype": "text/x-python",
   "name": "python",
   "nbconvert_exporter": "python",
   "pygments_lexer": "ipython3",
   "version": "3.9.6"
  }
 },
 "nbformat": 4,
 "nbformat_minor": 2
}
